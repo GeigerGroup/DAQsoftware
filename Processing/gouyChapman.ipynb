{
 "cells": [
  {
   "cell_type": "code",
   "execution_count": 1,
   "metadata": {},
   "outputs": [],
   "source": [
    "%load_ext autoreload\n",
    "%autoreload 2"
   ]
  },
  {
   "cell_type": "code",
   "execution_count": 25,
   "metadata": {},
   "outputs": [],
   "source": [
    "import matplotlib.pyplot as plt\n",
    "import numpy as np\n",
    "from scipy.optimize import curve_fit\n",
    "from scipy import constants\n",
    "eR = 78\n",
    "e0 = constants.epsilon_0\n",
    "R = constants.R\n",
    "kB = constants.k\n",
    "F = constants.physical_constants['Faraday constant'][0]\n",
    "T = 298.15\n",
    "e = constants.e\n",
    "N = constants.N_A\n",
    "\n",
    "\n",
    "from optics_calcs.opticscalcs import deltaKZ\n",
    "from optics_calcs.aqueous import debyeLength\n",
    "from optics_calcs.aqueous import GCpotential"
   ]
  },
  {
   "cell_type": "code",
   "execution_count": 26,
   "metadata": {},
   "outputs": [],
   "source": [
    "conc = np.array([2e-6, 1.2e-5, 1e-4,1e-3])\n",
    "pot = np.array([1.0758,  0.8656, 0.5671, 0.1419,])\n",
    "poterror = np.array([0.044, 0.12, 0.28, 0.11])"
   ]
  },
  {
   "cell_type": "code",
   "execution_count": 33,
   "metadata": {},
   "outputs": [
    {
     "name": "stdout",
     "output_type": "stream",
     "text": [
      "[-0.31212786 -0.00289773]\n"
     ]
    }
   ],
   "source": [
    "def GCpot(C,ArbConst,sigma):\n",
    "    return ArbConst*np.arcsinh(sigma/np.sqrt(8000*kB*T*N*C*e0*eR))\n",
    "\n",
    "#fit function\n",
    "ArbConst = 1\n",
    "sigmaGuess = -0.1\n",
    "guesses = [ArbConst,sigmaGuess]\n",
    "popt, pcov = curve_fit(GCpot,conc,pot,p0=guesses)\n",
    "\n",
    "#calculate standard error\n",
    "pstd = np.sqrt(np.diag(pcov))\n",
    "print(popt)"
   ]
  },
  {
   "cell_type": "code",
   "execution_count": 52,
   "metadata": {},
   "outputs": [
    {
     "data": {
      "image/png": "[encoded data removed]",
      "text/plain": [
       "<Figure size 432x288 with 1 Axes>"
      ]
     },
     "metadata": {
      "needs_background": "light"
     },
     "output_type": "display_data"
    }
   ],
   "source": [
    "plt.figure()\n",
    "plt.errorbar(conc,pot,poterror)\n",
    "plt.plot(conc,GCpot(conc,popt[0],popt[1]))\n",
    "plt.xscale(\"log\")"
   ]
  },
  {
   "cell_type": "code",
   "execution_count": 60,
   "metadata": {},
   "outputs": [
    {
     "data": {
      "text/plain": [
       "-0.05041910258117596"
      ]
     },
     "execution_count": 60,
     "metadata": {},
     "output_type": "execute_result"
    }
   ],
   "source": [
    "GCpotential(50e-3,-0.03)"
   ]
  },
  {
   "cell_type": "code",
   "execution_count": null,
   "metadata": {},
   "outputs": [],
   "source": []
  }
 ],
 "metadata": {
  "kernelspec": {
   "display_name": "Python 3",
   "language": "python",
   "name": "python3"
  },
  "language_info": {
   "codemirror_mode": {
    "name": "ipython",
    "version": 3
   },
   "file_extension": ".py",
   "mimetype": "text/x-python",
   "name": "python",
   "nbconvert_exporter": "python",
   "pygments_lexer": "ipython3",
   "version": "3.6.8"
  }
 },
 "nbformat": 4,
 "nbformat_minor": 2
}
