{
 "cells": [
  {
   "cell_type": "markdown",
   "metadata": {},
   "source": [
    "# Import and Process SHG Data"
   ]
  },
  {
   "cell_type": "markdown",
   "metadata": {},
   "source": [
    "Input Modules, etc:"
   ]
  },
  {
   "cell_type": "code",
   "execution_count": null,
   "metadata": {},
   "outputs": [],
   "source": [
    "import numpy as np\n",
    "\n",
    "import pandas as pd\n",
    "\n",
    "import matplotlib.pyplot as plt\n",
    "\n",
    "from scipy.optimize import curve_fit\n",
    "\n",
    "import math"
   ]
  },
  {
   "cell_type": "markdown",
   "metadata": {},
   "source": [
    "Set input and output locations:"
   ]
  },
  {
   "cell_type": "code",
   "execution_count": null,
   "metadata": {},
   "outputs": [],
   "source": [
    "#location of data files\n",
    "inputpath = '/Users/geiger/Box Sync/Science/Data/SHG/2018/120918'\n",
    "\n",
    "#path of output files\n",
    "outputpath = '/Users/geiger/Box Sync/Science/Data/SHG/2018/120918/'"
   ]
  },
  {
   "cell_type": "markdown",
   "metadata": {},
   "source": [
    "Names of files to import, either manually setting them or sequential based off a basename:"
   ]
  },
  {
   "cell_type": "code",
   "execution_count": null,
   "metadata": {},
   "outputs": [],
   "source": [
    "#names of each file if have individual names\n",
    "#names = ['hemi2pure1a','hemi2pure1b','hemi2salt1a','hemi2salt1b','hemi2pure2a','hemi2pure2b','hemi2salt2a','hemi2salt2b','hemi2pure3a','hemi2pure3b']\n",
    "\n",
    "#names of each file if have sequential names\n",
    "names = []\n",
    "basename = 'pm'\n",
    "for i in range(26):\n",
    "    names.append(basename+str(i+1))"
   ]
  },
  {
   "cell_type": "code",
   "execution_count": null,
   "metadata": {},
   "outputs": [],
   "source": [
    "#open file for writing scans to\n",
    "fScans = open(outputpath+'scans.txt','w+')\n",
    "\n",
    "#initialize data frames to hold data\n",
    "countsA = pd.DataFrame()\n",
    "countsB = pd.DataFrame()\n",
    "pos = pd.DataFrame()\n",
    "\n",
    "#go through each file\n",
    "for name in names:\n",
    "    #names of each file\n",
    "    filename = inputpath + '/' + name + '.txt'\n",
    "    #import countsA (signal),countsB (dark counts), and pos (stage position)\n",
    "    countsA[name] = pd.read_csv(filename,sep='\\t')['countsA']\n",
    "    countsB[name] = pd.read_csv(filename,sep='\\t')['countsB']\n",
    "    pos[name] = pd.read_csv(filename,sep='\\t')['stage']\n",
    "    \n",
    "#define function to turn time wave into scan by taking average of intervals\n",
    "def findAverage(series):\n",
    "    #set number of points per position here\n",
    "    interval = 20\n",
    "    reshaped = np.reshape(series.values,(int(len(series.values)/interval),interval))\n",
    "    return pd.Series(np.mean(reshaped,1))\n",
    "\n",
    "#apply function to time data to get the scan data\n",
    "aveCountsA = countsA.apply(findAverage,axis=0)\n",
    "aveCountsB = countsB.apply(findAverage,axis=0)\n",
    "pos = pos.apply(findAverage,axis=0)\n",
    "del countsA,countsB\n",
    "    \n",
    "#correct for dark counts\n",
    "counts = aveCountsA.sub(aveCountsB)\n",
    "del aveCountsA,aveCountsB\n",
    "\n",
    "#create data frame to hold each scan and the position vector\n",
    "data = counts.copy()\n",
    "data.insert(0,'pos',pos[names[0]])\n",
    "\n",
    "#write to file    \n",
    "fScans.write(data.to_csv(sep='\\t', index=False, header=True))\n",
    "fScans.close()\n",
    "\n",
    "#plot individual\n",
    "plt.figure()\n",
    "plt.title('Individual Scan Data')\n",
    "for column in pos.columns:\n",
    "    plt.plot(pos[column],counts[column],'.')"
   ]
  },
  {
   "cell_type": "markdown",
   "metadata": {},
   "source": [
    "Initial Fitting, with f free to vary:"
   ]
  },
  {
   "cell_type": "code",
   "execution_count": null,
   "metadata": {},
   "outputs": [],
   "source": [
    "#define fit func, same as IGOR\n",
    "def sinFunc(x, y0, A, f, phi):\n",
    "    return y0 + A*np.sin(f*x + phi)\n",
    "\n",
    "#x values from which to plot fit function\n",
    "xvalues = np.linspace(0,99.7,1000)\n",
    "\n",
    "#data frame to hold initial fitting parameters\n",
    "initFitParams = pd.DataFrame(columns=['name','y0','y0error','A','Aerror','f','ferror','phi','phierror'])\n",
    "initFitValues = pd.DataFrame({'pos':xvalues})\n",
    "\n",
    "#fit, going through column by column and storing fit parameters in initFits\n",
    "for column in counts.columns:\n",
    "    #calculate guesses for fit func\n",
    "    y0guess = np.mean(counts[column])\n",
    "    Aguess = (np.amax(counts[column])-np.amin(counts[column]))/2\n",
    "    fguess = 0.05;\n",
    "    phiguess = 0;\n",
    "    guesses = [y0guess,Aguess,fguess,phiguess]\n",
    "    \n",
    "    #fit it\n",
    "    popt, pcov = curve_fit(sinFunc,pos[column],\n",
    "                           counts[column],p0=guesses)\n",
    "    #calculate standard error\n",
    "    pstd = np.sqrt(np.diag(pcov))\n",
    "    \n",
    "    #create row and append it to the dataframe\n",
    "    tdf = pd.DataFrame({'name':[column],'y0':[popt[0]],'y0error':[pstd[0]],'A':[popt[1]],'Aerror':[pstd[1]],\n",
    "                         'f':[popt[2]],'ferror':[pstd[2]],'phi':[popt[3]],'phierror':[pstd[3]]})\n",
    "    initFitParams = initFitParams.append(tdf,ignore_index=True)\n",
    "    \n",
    "    #calculate fit and add it to fit values\n",
    "    initFitValues[column] = sinFunc(xvalues,popt[0],popt[1],popt[2],popt[3])\n",
    "    \n",
    "\n",
    "#resort columns\n",
    "columnTitles = ['name','y0','y0error','A','Aerror','f','ferror','phi','phierror']\n",
    "initFitParams = initFitParams.reindex(columns=columnTitles)\n",
    "\n",
    "#plot the initial fits\n",
    "plt.figure()\n",
    "plt.title('Init Fits')\n",
    "for column in counts.columns:\n",
    "    plt.plot(pos[column],counts[column],'.')\n",
    "    plt.plot(xvalues,initFitValues[column])"
   ]
  },
  {
   "cell_type": "markdown",
   "metadata": {},
   "source": [
    "Write Initial Fits to File (optional, to load into igor, etc.):"
   ]
  },
  {
   "cell_type": "code",
   "execution_count": null,
   "metadata": {},
   "outputs": [],
   "source": [
    "#write parameters to file\n",
    "fInitFitParams = open(outputpath+'initFitParams.txt','w+')\n",
    "fInitFitParams.write(initFitParams.to_csv(sep='\\t', index=False, header=True))\n",
    "fInitFitParams.close()\n",
    "\n",
    "#write values to file\n",
    "fInitFitValues = open(outputpath+'initFitValues.txt','w+')\n",
    "fInitFitValues.write(initFitValues.round(3).to_csv(sep='\\t',index = False, header=True))\n",
    "fInitFitValues.close()"
   ]
  },
  {
   "cell_type": "code",
   "execution_count": null,
   "metadata": {},
   "outputs": [],
   "source": [
    "#calculate average of f values, then period\n",
    "fAve = initFitParams['f'].mean()\n",
    "period = 2*np.pi/fAve\n",
    "\n",
    "#calculate stdev\n",
    "fStd = initFitParams['f'].std()\n",
    "periodError = period*(fStd/fAve)\n",
    "\n",
    "#print\n",
    "print('f = '+'%.2f'%period+' +- '+'%.2f'%periodError)"
   ]
  },
  {
   "cell_type": "markdown",
   "metadata": {},
   "source": [
    "Second Round of Fitting with F Fixed:"
   ]
  },
  {
   "cell_type": "code",
   "execution_count": null,
   "metadata": {},
   "outputs": [],
   "source": [
    "#data frame to hold final fitting parameters and values\n",
    "finalFitParams = pd.DataFrame(columns=['name','y0','y0error','A','Aerror','f','ferror','phi','phierror'])\n",
    "finalFitValues = pd.DataFrame({'pos':xvalues})\n",
    "\n",
    "#go through each column\n",
    "for column in counts.columns:\n",
    "    #calculate guesses\n",
    "    y0guess = np.mean(counts[column])\n",
    "    Aguess = (np.amax(counts[column])-np.amin(counts[column]))/2\n",
    "    phiguess = 0;\n",
    "    guesses = [y0guess,Aguess,phiguess]\n",
    "\n",
    "    #fit it, with f fixed\n",
    "    popt, pcov = curve_fit(lambda x, y0, A, \n",
    "                           phi: sinFunc(x,y0, A, fAve, phi),\n",
    "                           pos[column],counts[column],p0=guesses)\n",
    "    \n",
    "    #calculate standard error\n",
    "    pstd = np.sqrt(np.diag(pcov))\n",
    "    \n",
    "    #create row and append it to the dataframe\n",
    "    tdf = pd.DataFrame({'name':[column],'y0':[popt[0]],'y0error':[pstd[0]],'A':[popt[1]],'Aerror':[pstd[1]],\n",
    "                         'f':[fAve],'ferror':[fStd],'phi':[popt[2]],'phierror':[pstd[2]]})                       \n",
    "    finalFitParams = finalFitParams.append(tdf,ignore_index=True)\n",
    "    \n",
    "    #calculate fit and add it to fit values\n",
    "    finalFitValues[column] = sinFunc(xvalues,popt[0],popt[1],fAve,popt[2])\n",
    "             \n",
    "#calculate phi in degrees\n",
    "finalFitParams['phideg'] = np.degrees(finalFitParams['phi'])\n",
    "finalFitParams['phidegerror'] = (finalFitParams['phierror']/finalFitParams['phi'])*finalFitParams['phideg']\n",
    "\n",
    "#resort columns\n",
    "columnTitles = ['name','y0','y0error','A','Aerror','f','ferror','phi','phierror','phideg','phidegerror']\n",
    "finalFitParams = finalFitParams.reindex(columns=columnTitles)\n",
    "\n",
    "#plot the final fits\n",
    "plt.figure()\n",
    "plt.title('Final Fits')\n",
    "for column in counts.columns:\n",
    "    plt.plot(pos[column],counts[column],'.')\n",
    "    plt.plot(xvalues,finalFitValues[column])"
   ]
  },
  {
   "cell_type": "markdown",
   "metadata": {},
   "source": [
    "Write Final Fits to File:"
   ]
  },
  {
   "cell_type": "code",
   "execution_count": null,
   "metadata": {},
   "outputs": [],
   "source": [
    "#write parameters to file\n",
    "fFinalFitParams = open(outputpath+'finalFitParams.txt','w+')\n",
    "fFinalFitParams.write(finalFitParams.to_csv(sep='\\t', index=False, header=True))\n",
    "fFinalFitParams.close()\n",
    "\n",
    "#write values to file\n",
    "fFinalFitValues = open(outputpath+'finalFitValues.txt','w+')\n",
    "fFinalFitValues.write(finalFitValues.round(3).to_csv(sep='\\t',index = False, header=True))\n",
    "fFinalFitValues.close()"
   ]
  },
  {
   "cell_type": "code",
   "execution_count": null,
   "metadata": {},
   "outputs": [],
   "source": []
  },
  {
   "cell_type": "code",
   "execution_count": null,
   "metadata": {},
   "outputs": [],
   "source": []
  }
 ],
 "metadata": {
  "kernelspec": {
   "display_name": "Python 3",
   "language": "python",
   "name": "python3"
  },
  "language_info": {
   "codemirror_mode": {
    "name": "ipython",
    "version": 3
   },
   "file_extension": ".py",
   "mimetype": "text/x-python",
   "name": "python",
   "nbconvert_exporter": "python",
   "pygments_lexer": "ipython3",
   "version": "3.6.4"
  }
 },
 "nbformat": 4,
 "nbformat_minor": 2
}
